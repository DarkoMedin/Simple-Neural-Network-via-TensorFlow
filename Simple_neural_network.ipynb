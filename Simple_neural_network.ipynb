{
  "nbformat": 4,
  "nbformat_minor": 0,
  "metadata": {
    "colab": {
      "name": "Simple neural network.ipynb",
      "provenance": [],
      "collapsed_sections": [],
      "authorship_tag": "ABX9TyO8gAjs/5i0LsNTiIYuaY//",
      "include_colab_link": true
    },
    "kernelspec": {
      "name": "python3",
      "display_name": "Python 3"
    },
    "language_info": {
      "name": "python"
    }
  },
  "cells": [
    {
      "cell_type": "markdown",
      "metadata": {
        "id": "view-in-github",
        "colab_type": "text"
      },
      "source": [
        "<a href=\"https://colab.research.google.com/github/DarkoMedin/Simple-Neural-Network-via-TensorFlow/blob/main/Simple_neural_network.ipynb\" target=\"_parent\"><img src=\"https://colab.research.google.com/assets/colab-badge.svg\" alt=\"Open In Colab\"/></a>"
      ]
    },
    {
      "cell_type": "code",
      "execution_count": null,
      "metadata": {
        "id": "uS0bTbP5I6ki"
      },
      "outputs": [],
      "source": [
        "#Import the libraries for the project\n",
        "import numpy as np\n",
        "from tensorflow.keras.optimizers import Adam\n",
        "from sklearn.utils import shuffle\n",
        "from tensorflow.keras.datasets import fashion_mnist\n",
        "import matplotlib.pyplot as plt\n",
        "import tensorflow as tf\n",
        "import pandas  as pd"
      ]
    },
    {
      "cell_type": "code",
      "source": [
        "#Load Fashion MNIST  and separate train and test partitions\n",
        "(tr_I, tr_L), (testI, testL)=tf.keras.datasets.fashion_mnist.load_data()"
      ],
      "metadata": {
        "id": "OWGoa3AnJCEX"
      },
      "execution_count": null,
      "outputs": []
    },
    {
      "cell_type": "code",
      "source": [
        "#Define classes\n",
        "Fclass = ['T-shirt/top', 'Trouser', 'Pullover', 'Dress', 'Coat',\n",
        "               'Sandal', 'Shirt', 'Sneaker', 'Bag', 'Ankle boot']"
      ],
      "metadata": {
        "id": "w79Agj0OJJdH"
      },
      "execution_count": null,
      "outputs": []
    },
    {
      "cell_type": "code",
      "source": [
        "#Shuffle the data\n",
        "tr_I, tr_L=shuffle(tr_I, tr_L)\n",
        "testI, testL=shuffle(testI, testL)"
      ],
      "metadata": {
        "id": "vk6wOOyuJOBl"
      },
      "execution_count": null,
      "outputs": []
    },
    {
      "cell_type": "code",
      "source": [
        "len(tr_I)"
      ],
      "metadata": {
        "colab": {
          "base_uri": "https://localhost:8080/"
        },
        "id": "48jO0lgLfoG6",
        "outputId": "6e6f8600-de1d-46a0-caca-5e0ead9704cd"
      },
      "execution_count": null,
      "outputs": [
        {
          "output_type": "execute_result",
          "data": {
            "text/plain": [
              "60000"
            ]
          },
          "metadata": {},
          "execution_count": 66
        }
      ]
    },
    {
      "cell_type": "code",
      "source": [
        "len(testI)"
      ],
      "metadata": {
        "colab": {
          "base_uri": "https://localhost:8080/"
        },
        "id": "04-AOmmbfurm",
        "outputId": "9ca8bd8f-88f8-426f-d8cd-4c39ead253dd"
      },
      "execution_count": null,
      "outputs": [
        {
          "output_type": "execute_result",
          "data": {
            "text/plain": [
              "10000"
            ]
          },
          "metadata": {},
          "execution_count": 67
        }
      ]
    },
    {
      "cell_type": "code",
      "source": [
        "\n",
        "for i in range (20):\n",
        "  plt.figure(figsize=(15,15))\n",
        "  plt.subplot(5,5,i+1)\n",
        "  plt.imshow(tr_I[i+100], cmap=plt.get_cmap(\"gray\"))\n",
        "  plt.show()"
      ],
      "metadata": {
        "colab": {
          "base_uri": "https://localhost:8080/",
          "height": 1000
        },
        "id": "XV2wJ_L4f6sP",
        "outputId": "89e453f9-8179-4253-cab3-9a8ab1b8ea90"
      },
      "execution_count": null,
      "outputs": [
        {
          "output_type": "display_data",
          "data": {
            "text/plain": [
              "<Figure size 1080x1080 with 1 Axes>"
            ],
            "image/png": "[encoded data removed]"
          },
          "metadata": {
            "needs_background": "light"
          }
        },
        {
          "output_type": "display_data",
          "data": {
            "text/plain": [
              "<Figure size 1080x1080 with 1 Axes>"
            ],
            "image/png": "[encoded data removed]"
          },
          "metadata": {
            "needs_background": "light"
          }
        },
        {
          "output_type": "display_data",
          "data": {
            "text/plain": [
              "<Figure size 1080x1080 with 1 Axes>"
            ],
            "image/png": "[encoded data removed]"
          },
          "metadata": {
            "needs_background": "light"
          }
        },
        {
          "output_type": "display_data",
          "data": {
            "text/plain": [
              "<Figure size 1080x1080 with 1 Axes>"
            ],
            "image/png": "[encoded data removed]"
          },
          "metadata": {
            "needs_background": "light"
          }
        },
        {
          "output_type": "display_data",
          "data": {
            "text/plain": [
              "<Figure size 1080x1080 with 1 Axes>"
            ],
            "image/png": "[encoded data removed]"
          },
          "metadata": {
            "needs_background": "light"
          }
        },
        {
          "output_type": "display_data",
          "data": {
            "text/plain": [
              "<Figure size 1080x1080 with 1 Axes>"
            ],
            "image/png": "[encoded data removed]"
          },
          "metadata": {
            "needs_background": "light"
          }
        },
        {
          "output_type": "display_data",
          "data": {
            "text/plain": [
              "<Figure size 1080x1080 with 1 Axes>"
            ],
            "image/png": "[encoded data removed]"
          },
          "metadata": {
            "needs_background": "light"
          }
        },
        {
          "output_type": "display_data",
          "data": {
            "text/plain": [
              "<Figure size 1080x1080 with 1 Axes>"
            ],
            "image/png": "[encoded data removed]"
          },
          "metadata": {
            "needs_background": "light"
          }
        },
        {
          "output_type": "display_data",
          "data": {
            "text/plain": [
              "<Figure size 1080x1080 with 1 Axes>"
            ],
            "image/png": "[encoded data removed]"
          },
          "metadata": {
            "needs_background": "light"
          }
        },
        {
          "output_type": "display_data",
          "data": {
            "text/plain": [
              "<Figure size 1080x1080 with 1 Axes>"
            ],
            "image/png": "[encoded data removed]"
          },
          "metadata": {
            "needs_background": "light"
          }
        },
        {
          "output_type": "display_data",
          "data": {
            "text/plain": [
              "<Figure size 1080x1080 with 1 Axes>"
            ],
            "image/png": "[encoded data removed]"
          },
          "metadata": {
            "needs_background": "light"
          }
        },
        {
          "output_type": "display_data",
          "data": {
            "text/plain": [
              "<Figure size 1080x1080 with 1 Axes>"
            ],
            "image/png": "[encoded data removed]"
          },
          "metadata": {
            "needs_background": "light"
          }
        },
        {
          "output_type": "display_data",
          "data": {
            "text/plain": [
              "<Figure size 1080x1080 with 1 Axes>"
            ],
            "image/png": "[encoded data removed]"
          },
          "metadata": {
            "needs_background": "light"
          }
        },
        {
          "output_type": "display_data",
          "data": {
            "text/plain": [
              "<Figure size 1080x1080 with 1 Axes>"
            ],
            "image/png": "[encoded data removed]"
          },
          "metadata": {
            "needs_background": "light"
          }
        },
        {
          "output_type": "display_data",
          "data": {
            "text/plain": [
              "<Figure size 1080x1080 with 1 Axes>"
            ],
            "image/png": "[encoded data removed]"
          },
          "metadata": {
            "needs_background": "light"
          }
        },
        {
          "output_type": "display_data",
          "data": {
            "text/plain": [
              "<Figure size 1080x1080 with 1 Axes>"
            ],
            "image/png": "[encoded data removed]"
          },
          "metadata": {
            "needs_background": "light"
          }
        },
        {
          "output_type": "display_data",
          "data": {
            "text/plain": [
              "<Figure size 1080x1080 with 1 Axes>"
            ],
            "image/png": "[encoded data removed]"
          },
          "metadata": {
            "needs_background": "light"
          }
        },
        {
          "output_type": "display_data",
          "data": {
            "text/plain": [
              "<Figure size 1080x1080 with 1 Axes>"
            ],
            "image/png": "[encoded data removed]"
          },
          "metadata": {
            "needs_background": "light"
          }
        },
        {
          "output_type": "display_data",
          "data": {
            "text/plain": [
              "<Figure size 1080x1080 with 1 Axes>"
            ],
            "image/png": "[encoded data removed]"
          },
          "metadata": {
            "needs_background": "light"
          }
        },
        {
          "output_type": "display_data",
          "data": {
            "text/plain": [
              "<Figure size 1080x1080 with 1 Axes>"
            ],
            "image/png": "[encoded data removed]"
          },
          "metadata": {
            "needs_background": "light"
          }
        }
      ]
    },
    {
      "cell_type": "code",
      "source": [
        "#Normalize the data to a scale from 0 to 1\n",
        "tr_I, testI=tr_I/np.max(tr_I), testI/np.max(testI)"
      ],
      "metadata": {
        "id": "M0ln7tCXJTBK"
      },
      "execution_count": null,
      "outputs": []
    },
    {
      "cell_type": "code",
      "source": [
        "#Reshape the data into 4 dimentions needed for Conv2D layers\n",
        "tr_I=tr_I.reshape(-1,28,28,1)\n",
        "testI=testI.reshape(-1,28,28,1)\n"
      ],
      "metadata": {
        "id": "gICdcRYDJU8d"
      },
      "execution_count": null,
      "outputs": []
    },
    {
      "cell_type": "code",
      "source": [
        "\n",
        "model = tf.keras.Sequential([\n",
        "    tf.keras.layers.Conv2D(24, (2,2),padding='same', \n",
        "                           activation='relu', \n",
        "                           input_shape=(28, 28, 1)),\n",
        "    tf.keras.layers.Conv2D(28, (2,2),padding='same', \n",
        "                           activation='relu'),                        \n",
        "    tf.keras.layers.Flatten(),\n",
        "    tf.keras.layers.Dense(10, activation='softmax')])\n",
        "\n",
        "\n"
      ],
      "metadata": {
        "id": "48miRhEvJWHJ"
      },
      "execution_count": null,
      "outputs": []
    },
    {
      "cell_type": "code",
      "source": [
        "model.summary()"
      ],
      "metadata": {
        "colab": {
          "base_uri": "https://localhost:8080/"
        },
        "id": "7zahz9BtJaCF",
        "outputId": "0bc92e90-d498-46bf-b7b0-77e8f0ea49ae"
      },
      "execution_count": null,
      "outputs": [
        {
          "output_type": "stream",
          "name": "stdout",
          "text": [
            "Model: \"sequential_2\"\n",
            "_________________________________________________________________\n",
            " Layer (type)                Output Shape              Param #   \n",
            "=================================================================\n",
            " conv2d_4 (Conv2D)           (None, 28, 28, 24)        120       \n",
            "                                                                 \n",
            " conv2d_5 (Conv2D)           (None, 28, 28, 28)        2716      \n",
            "                                                                 \n",
            " flatten_2 (Flatten)         (None, 21952)             0         \n",
            "                                                                 \n",
            " dense_2 (Dense)             (None, 10)                219530    \n",
            "                                                                 \n",
            "=================================================================\n",
            "Total params: 222,366\n",
            "Trainable params: 222,366\n",
            "Non-trainable params: 0\n",
            "_________________________________________________________________\n"
          ]
        }
      ]
    },
    {
      "cell_type": "code",
      "source": [
        "\n",
        "model.compile(\n",
        "    optimizer=Adam(learning_rate=0.00015),\n",
        "    loss='sparse_categorical_crossentropy' ,\n",
        "    metrics=['accuracy']\n",
        ")"
      ],
      "metadata": {
        "id": "6GkaDE5NKNWW"
      },
      "execution_count": null,
      "outputs": []
    },
    {
      "cell_type": "code",
      "source": [
        "\n",
        "model.fit(x=tr_I, y=tr_L, epochs=20,\n",
        "           validation_split=0.22, verbose=2, shuffle=True)"
      ],
      "metadata": {
        "colab": {
          "base_uri": "https://localhost:8080/"
        },
        "id": "3ZOYlpdrKSHl",
        "outputId": "32b0a368-ab53-419a-9abc-740411f5ab5f"
      },
      "execution_count": null,
      "outputs": [
        {
          "output_type": "stream",
          "name": "stdout",
          "text": [
            "Epoch 1/20\n",
            "1463/1463 - 44s - loss: 0.5401 - accuracy: 0.8161 - val_loss: 0.3995 - val_accuracy: 0.8589 - 44s/epoch - 30ms/step\n",
            "Epoch 2/20\n",
            "1463/1463 - 46s - loss: 0.3589 - accuracy: 0.8754 - val_loss: 0.3585 - val_accuracy: 0.8728 - 46s/epoch - 32ms/step\n",
            "Epoch 3/20\n",
            "1463/1463 - 45s - loss: 0.3229 - accuracy: 0.8861 - val_loss: 0.3413 - val_accuracy: 0.8780 - 45s/epoch - 31ms/step\n",
            "Epoch 4/20\n",
            "1463/1463 - 45s - loss: 0.3023 - accuracy: 0.8930 - val_loss: 0.3187 - val_accuracy: 0.8883 - 45s/epoch - 31ms/step\n",
            "Epoch 5/20\n",
            "1463/1463 - 45s - loss: 0.2859 - accuracy: 0.8988 - val_loss: 0.3187 - val_accuracy: 0.8884 - 45s/epoch - 30ms/step\n",
            "Epoch 6/20\n",
            "1463/1463 - 45s - loss: 0.2719 - accuracy: 0.9036 - val_loss: 0.3111 - val_accuracy: 0.8873 - 45s/epoch - 31ms/step\n",
            "Epoch 7/20\n",
            "1463/1463 - 45s - loss: 0.2600 - accuracy: 0.9083 - val_loss: 0.3057 - val_accuracy: 0.8911 - 45s/epoch - 31ms/step\n",
            "Epoch 8/20\n",
            "1463/1463 - 47s - loss: 0.2498 - accuracy: 0.9115 - val_loss: 0.3076 - val_accuracy: 0.8902 - 47s/epoch - 32ms/step\n",
            "Epoch 9/20\n",
            "1463/1463 - 45s - loss: 0.2412 - accuracy: 0.9141 - val_loss: 0.3052 - val_accuracy: 0.8929 - 45s/epoch - 31ms/step\n",
            "Epoch 10/20\n",
            "1463/1463 - 45s - loss: 0.2318 - accuracy: 0.9170 - val_loss: 0.3040 - val_accuracy: 0.8922 - 45s/epoch - 31ms/step\n",
            "Epoch 11/20\n",
            "1463/1463 - 45s - loss: 0.2229 - accuracy: 0.9204 - val_loss: 0.2950 - val_accuracy: 0.8953 - 45s/epoch - 31ms/step\n",
            "Epoch 12/20\n",
            "1463/1463 - 45s - loss: 0.2144 - accuracy: 0.9229 - val_loss: 0.2923 - val_accuracy: 0.8997 - 45s/epoch - 31ms/step\n",
            "Epoch 13/20\n",
            "1463/1463 - 44s - loss: 0.2065 - accuracy: 0.9268 - val_loss: 0.2979 - val_accuracy: 0.8941 - 44s/epoch - 30ms/step\n",
            "Epoch 14/20\n",
            "1463/1463 - 44s - loss: 0.1987 - accuracy: 0.9292 - val_loss: 0.2962 - val_accuracy: 0.8978 - 44s/epoch - 30ms/step\n",
            "Epoch 15/20\n",
            "1463/1463 - 47s - loss: 0.1916 - accuracy: 0.9317 - val_loss: 0.2916 - val_accuracy: 0.8984 - 47s/epoch - 32ms/step\n",
            "Epoch 16/20\n",
            "1463/1463 - 44s - loss: 0.1834 - accuracy: 0.9361 - val_loss: 0.2979 - val_accuracy: 0.8980 - 44s/epoch - 30ms/step\n",
            "Epoch 17/20\n",
            "1463/1463 - 44s - loss: 0.1759 - accuracy: 0.9373 - val_loss: 0.2937 - val_accuracy: 0.8985 - 44s/epoch - 30ms/step\n",
            "Epoch 18/20\n",
            "1463/1463 - 45s - loss: 0.1700 - accuracy: 0.9406 - val_loss: 0.2922 - val_accuracy: 0.8993 - 45s/epoch - 31ms/step\n",
            "Epoch 19/20\n",
            "1463/1463 - 46s - loss: 0.1632 - accuracy: 0.9422 - val_loss: 0.2894 - val_accuracy: 0.9039 - 46s/epoch - 31ms/step\n",
            "Epoch 20/20\n",
            "1463/1463 - 44s - loss: 0.1569 - accuracy: 0.9451 - val_loss: 0.3047 - val_accuracy: 0.8984 - 44s/epoch - 30ms/step\n"
          ]
        },
        {
          "output_type": "execute_result",
          "data": {
            "text/plain": [
              "<keras.callbacks.History at 0x7f87a912cad0>"
            ]
          },
          "metadata": {},
          "execution_count": 74
        }
      ]
    },
    {
      "cell_type": "code",
      "source": [
        "\n",
        "model.evaluate(testI, testL)"
      ],
      "metadata": {
        "colab": {
          "base_uri": "https://localhost:8080/"
        },
        "id": "S5bbFYl4zIQT",
        "outputId": "4a86c1bf-7c91-45f3-90be-77918239853e"
      },
      "execution_count": null,
      "outputs": [
        {
          "output_type": "stream",
          "name": "stdout",
          "text": [
            "313/313 [==============================] - 3s 11ms/step - loss: 0.3122 - accuracy: 0.8948\n"
          ]
        },
        {
          "output_type": "execute_result",
          "data": {
            "text/plain": [
              "[0.312221884727478, 0.8948000073432922]"
            ]
          },
          "metadata": {},
          "execution_count": 76
        }
      ]
    }
  ]
}